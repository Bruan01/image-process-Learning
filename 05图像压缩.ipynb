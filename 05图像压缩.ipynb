{
 "cells": [
  {
   "cell_type": "markdown",
   "id": "a88fa711",
   "metadata": {},
   "source": [
    "\n",
    "## 图像压缩\n",
    "1. 熟悉哈夫曼编码原理，并掌握哈夫曼编码的Python程序使用方法；\n",
    "2. 熟悉预测编码原理，并掌握预测编码的Python程序使用方法；\n",
    "3. 熟悉离散余弦变换编码原理，并掌握离散余弦变换编码的Python程序使用方法。"
   ]
  },
  {
   "cell_type": "code",
   "execution_count": 3,
   "id": "4150005f",
   "metadata": {
    "ExecuteTime": {
     "end_time": "2022-09-29T08:19:08.390391Z",
     "start_time": "2022-09-29T08:19:08.362820Z"
    }
   },
   "outputs": [
    {
     "ename": "ModuleNotFoundError",
     "evalue": "No module named 'HuffmanNode'",
     "output_type": "error",
     "traceback": [
      "\u001b[1;31m---------------------------------------------------------------------------\u001b[0m",
      "\u001b[1;31mModuleNotFoundError\u001b[0m                       Traceback (most recent call last)",
      "Input \u001b[1;32mIn [3]\u001b[0m, in \u001b[0;36m<cell line: 2>\u001b[1;34m()\u001b[0m\n\u001b[0;32m      1\u001b[0m \u001b[38;5;28;01mimport\u001b[39;00m \u001b[38;5;21;01mos\u001b[39;00m\n\u001b[1;32m----> 2\u001b[0m \u001b[38;5;28;01mfrom\u001b[39;00m \u001b[38;5;21;01mHuffmanNode\u001b[39;00m \u001b[38;5;28;01mimport\u001b[39;00m hufma\n\u001b[0;32m      3\u001b[0m \u001b[38;5;28;01mimport\u001b[39;00m \u001b[38;5;21;01mcv2\u001b[39;00m\n\u001b[0;32m      4\u001b[0m hufma(\u001b[38;5;124m'\u001b[39m\u001b[38;5;124m./img\u001b[39m\u001b[38;5;124m'\u001b[39m,\u001b[38;5;124m'\u001b[39m\u001b[38;5;124mtest01.jpg\u001b[39m\u001b[38;5;124m'\u001b[39m)\n",
      "\u001b[1;31mModuleNotFoundError\u001b[0m: No module named 'HuffmanNode'"
     ]
    }
   ],
   "source": [
    "import os\n",
    "from HuffmanNode import hufma\n",
    "import cv2\n",
    "hufma('./img','test01.jpg')\n",
    "orign_size=os.stat('./img/lena512.jpg').st_size\n",
    "hufma_size = os.stat(\"./hufmalena512.jpg\").st_size\n",
    "print(\"原文件大小:\",orign_size,\"字节\")\n",
    "print(\"哈夫曼编码后文件大小:\",hufma_size,\"字节\")\n",
    "print('比率',orign_size/hufma_size)"
   ]
  },
  {
   "cell_type": "code",
   "execution_count": null,
   "id": "2d51b32a",
   "metadata": {},
   "outputs": [],
   "source": []
  }
 ],
 "metadata": {
  "kernelspec": {
   "display_name": "MachineLearning",
   "language": "python",
   "name": "machinelearning"
  },
  "language_info": {
   "codemirror_mode": {
    "name": "ipython",
    "version": 3
   },
   "file_extension": ".py",
   "mimetype": "text/x-python",
   "name": "python",
   "nbconvert_exporter": "python",
   "pygments_lexer": "ipython3",
   "version": "3.8.13"
  }
 },
 "nbformat": 4,
 "nbformat_minor": 5
}
