{
 "cells": [
  {
   "cell_type": "markdown",
   "id": "91cfe5d5",
   "metadata": {},
   "source": [
    "# 图像分割\n",
    "1. 熟悉边缘检测基本原理，掌握边缘检测图像分割Python使用方法；\n",
    "2. 熟悉阈值分割基本原理，掌握图像阈值分割Python使用方法；\n",
    "3. 熟悉区域分割基本原理，掌握图像区域分割Python使用方法。"
   ]
  },
  {
   "cell_type": "code",
   "execution_count": null,
   "id": "653421c0",
   "metadata": {},
   "outputs": [],
   "source": []
  }
 ],
 "metadata": {
  "kernelspec": {
   "display_name": "MachineLearning",
   "language": "python",
   "name": "machinelearning"
  },
  "language_info": {
   "codemirror_mode": {
    "name": "ipython",
    "version": 3
   },
   "file_extension": ".py",
   "mimetype": "text/x-python",
   "name": "python",
   "nbconvert_exporter": "python",
   "pygments_lexer": "ipython3",
   "version": "3.8.13"
  }
 },
 "nbformat": 4,
 "nbformat_minor": 5
}
